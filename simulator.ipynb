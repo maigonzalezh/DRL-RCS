{
 "cells": [
  {
   "cell_type": "code",
   "execution_count": 1,
   "metadata": {},
   "outputs": [],
   "source": [
    "import numpy as np\n",
    "import networkx as nx"
   ]
  },
  {
   "cell_type": "code",
   "execution_count": 2,
   "metadata": {},
   "outputs": [],
   "source": [
    "TIME_HORIZON = 1400 # minutes\n",
    "SEED = 42\n",
    "np.random.seed(SEED)"
   ]
  },
  {
   "cell_type": "code",
   "execution_count": 3,
   "metadata": {},
   "outputs": [],
   "source": [
    "uniform_arrivals = np.sort(np.random.uniform(360,1200,80).astype(int))"
   ]
  },
  {
   "cell_type": "code",
   "execution_count": 4,
   "metadata": {},
   "outputs": [
    {
     "data": {
      "text/plain": [
       "array([ 364,  377,  388,  397,  399,  408,  414,  422,  422,  434,  442,\n",
       "        457,  462,  477,  478,  491,  491,  503,  512,  514,  515,  524,\n",
       "        526,  527,  538,  577,  587,  595,  604,  605,  615,  615,  621,\n",
       "        633,  659,  661,  667,  674,  686,  722,  729,  743,  775,  791,\n",
       "        796,  800,  815,  819,  857,  862,  862,  864,  870,  873,  916,\n",
       "        934,  953,  954,  972,  974, 1007, 1008, 1011, 1019, 1033, 1039,\n",
       "       1044, 1056, 1059, 1087, 1111, 1123, 1134, 1149, 1157, 1158, 1171,\n",
       "       1174, 1174, 1188])"
      ]
     },
     "execution_count": 4,
     "metadata": {},
     "output_type": "execute_result"
    }
   ],
   "source": [
    "uniform_arrivals"
   ]
  },
  {
   "cell_type": "code",
   "execution_count": 5,
   "metadata": {},
   "outputs": [
    {
     "data": {
      "image/png": "[encoded data removed]",
      "text/plain": [
       "<Figure size 432x288 with 1 Axes>"
      ]
     },
     "metadata": {
      "needs_background": "light"
     },
     "output_type": "display_data"
    }
   ],
   "source": [
    "import matplotlib.pyplot as plt\n",
    "count, bins, ignored = plt.hist(uniform_arrivals, 15, density=False)\n",
    "plt.xlim([0, 1400])\n",
    "plt.title(\"Uniformly distributed arrivals\")\n",
    "plt.ylabel(\"Number of request arrivals\")\n",
    "plt.xlabel(\"Time (min)\")\n",
    "plt.show()"
   ]
  },
  {
   "cell_type": "markdown",
   "metadata": {},
   "source": [
    "## Simulate one episode"
   ]
  },
  {
   "cell_type": "code",
   "execution_count": 10,
   "metadata": {},
   "outputs": [],
   "source": [
    "from modules.traffic_preprocess import TrafficPreprocessModule\n",
    "from entities.evcs import ChargingStation\n",
    "from entities.charging_request import ChargingRequest\n",
    "from topologies.graph import Graph\n"
   ]
  },
  {
   "cell_type": "code",
   "execution_count": 7,
   "metadata": {},
   "outputs": [],
   "source": [
    "def generate_random_node_pair(nodes_list):\n",
    "    node_pair = []\n",
    "    while len(node_pair) < 2:\n",
    "        node_pair = np.random.choice(nodes_list, 2, replace=False)\n",
    "    return node_pair\n",
    "\n",
    "def load_topology(topology_dir):\n",
    "    file = open(topology_dir, \"rb\")\n",
    "    G = nx.read_edgelist(file)\n",
    "    file.close()\n",
    "    print(\n",
    "        f'🏙️  Loaded topology with {G.number_of_nodes()} nodes and {G.number_of_edges()} edges.')\n",
    "    return G"
   ]
  },
  {
   "cell_type": "code",
   "execution_count": 11,
   "metadata": {},
   "outputs": [
    {
     "name": "stdout",
     "output_type": "stream",
     "text": [
      "🏙️  Loaded topology with 33 nodes and 49 edges.\n"
     ]
    },
    {
     "ename": "AttributeError",
     "evalue": "'Graph' object has no attribute 'get_evcs_labels'",
     "output_type": "error",
     "traceback": [
      "\u001b[0;31m---------------------------------------------------------------------------\u001b[0m",
      "\u001b[0;31mAttributeError\u001b[0m                            Traceback (most recent call last)",
      "\u001b[1;32m/home/mgonzalezh/Documentos/DRL-RCS/simulator.ipynb Celda 9\u001b[0m in \u001b[0;36m<cell line: 9>\u001b[0;34m()\u001b[0m\n\u001b[1;32m      <a href='vscode-notebook-cell:/home/mgonzalezh/Documentos/DRL-RCS/simulator.ipynb#ch0000008?line=6'>7</a>\u001b[0m traffic_network \u001b[39m=\u001b[39m TPM\u001b[39m.\u001b[39mget_traffic_network()\n\u001b[1;32m      <a href='vscode-notebook-cell:/home/mgonzalezh/Documentos/DRL-RCS/simulator.ipynb#ch0000008?line=7'>8</a>\u001b[0m nodes_labels \u001b[39m=\u001b[39m G_utils\u001b[39m.\u001b[39mget_nodes_labels(exclude_evcs\u001b[39m=\u001b[39m\u001b[39mTrue\u001b[39;00m)\n\u001b[0;32m----> <a href='vscode-notebook-cell:/home/mgonzalezh/Documentos/DRL-RCS/simulator.ipynb#ch0000008?line=8'>9</a>\u001b[0m evcs_labels \u001b[39m=\u001b[39m G_utils\u001b[39m.\u001b[39;49mget_evcs_labels()\n\u001b[1;32m     <a href='vscode-notebook-cell:/home/mgonzalezh/Documentos/DRL-RCS/simulator.ipynb#ch0000008?line=9'>10</a>\u001b[0m charging_stations \u001b[39m=\u001b[39m [ChargingStation(label, \u001b[39m0.5\u001b[39m) \u001b[39mfor\u001b[39;00m label \u001b[39min\u001b[39;00m evcs_labels]\n\u001b[1;32m     <a href='vscode-notebook-cell:/home/mgonzalezh/Documentos/DRL-RCS/simulator.ipynb#ch0000008?line=10'>11</a>\u001b[0m charging_requests \u001b[39m=\u001b[39m []\n",
      "\u001b[0;31mAttributeError\u001b[0m: 'Graph' object has no attribute 'get_evcs_labels'"
     ]
    }
   ],
   "source": [
    "last_request_time = 0\n",
    "\n",
    "G = load_topology(\"topologies/santiago.edgelist\")\n",
    "G_utils = Graph(G)\n",
    "\n",
    "TPM = TrafficPreprocessModule(G)\n",
    "traffic_network = TPM.get_traffic_network()\n",
    "nodes_labels = G_utils.get_nodes_labels(exclude_evcs=True)\n",
    "evcs_labels = G_utils.get_evcs_labels()\n",
    "charging_stations = [ChargingStation(label, 0.5) for label in evcs_labels]\n",
    "charging_requests = []\n",
    "for t in range(TIME_HORIZON):\n",
    "    if t in uniform_arrivals:\n",
    "        # Generate a new request and add it to the queue\n",
    "        node_pair = generate_random_node_pair(nodes_labels)\n",
    "        delta_t = t - last_request_time\n",
    "        initial_soc = np.random.uniform(0.2, 0.4)\n",
    "        required_soc = 0.9\n",
    "        last_request_time = t\n",
    "        charging_requests.append(ChargingRequest(\n",
    "            node_pair[0], node_pair[1], t, delta_t, initial_soc, required_soc))\n",
    "\n",
    "        arrival_times = [TPM.get_arrival_time(\n",
    "            node_pair[0], evcs_label) for evcs_label in evcs_labels]\n",
    "\n",
    "        print(\"Arrival at {}, delta_t: {}, node pair: {}\".format(\n",
    "            t, delta_t, node_pair))\n",
    "        print(\"Arrival times: {}\".format(arrival_times))\n"
   ]
  },
  {
   "cell_type": "code",
   "execution_count": 9,
   "metadata": {},
   "outputs": [
    {
     "data": {
      "text/plain": [
       "1399"
      ]
     },
     "execution_count": 9,
     "metadata": {},
     "output_type": "execute_result"
    }
   ],
   "source": [
    "range(TIME_HORIZON)[-1]"
   ]
  },
  {
   "cell_type": "code",
   "execution_count": 14,
   "metadata": {},
   "outputs": [
    {
     "name": "stdout",
     "output_type": "stream",
     "text": [
      "Graph with 33 nodes and 49 edges\n"
     ]
    }
   ],
   "source": [
    "print(traffic_network)"
   ]
  },
  {
   "cell_type": "code",
   "execution_count": null,
   "metadata": {},
   "outputs": [],
   "source": []
  }
 ],
 "metadata": {
  "kernelspec": {
   "display_name": "Python 3.8.13 ('drl-rcs')",
   "language": "python",
   "name": "python3"
  },
  "language_info": {
   "codemirror_mode": {
    "name": "ipython",
    "version": 3
   },
   "file_extension": ".py",
   "mimetype": "text/x-python",
   "name": "python",
   "nbconvert_exporter": "python",
   "pygments_lexer": "ipython3",
   "version": "3.8.13"
  },
  "orig_nbformat": 4,
  "vscode": {
   "interpreter": {
    "hash": "d3a72d839e7037988506f39a11e1a7934c003c0f1626f64457990a7c2e59733d"
   }
  }
 },
 "nbformat": 4,
 "nbformat_minor": 2
}
