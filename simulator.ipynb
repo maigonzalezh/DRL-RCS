{
 "cells": [
  {
   "cell_type": "code",
   "execution_count": 1,
   "metadata": {},
   "outputs": [],
   "source": [
    "import numpy as np\n",
    "import networkx as nx"
   ]
  },
  {
   "cell_type": "code",
   "execution_count": 12,
   "metadata": {},
   "outputs": [],
   "source": [
    "TIME_HORIZON = 1400 # minutes\n",
    "EV_ENERGY_CONSUMPTION_RATE = 0.16 # kW/km\n",
    "EV_MAX_BATTERY_CAPACITY = 54.75 # kWh\n",
    "EVCS_CHARGING_EFFICIENCY = 0.9 # kW\n",
    "CHARGING_POWER = 60 # kW\n",
    "SEED = 42\n",
    "np.random.seed(SEED)"
   ]
  },
  {
   "cell_type": "code",
   "execution_count": 3,
   "metadata": {},
   "outputs": [],
   "source": [
    "uniform_arrivals = np.sort(np.random.uniform(360,1200,80).astype(int))"
   ]
  },
  {
   "cell_type": "code",
   "execution_count": 4,
   "metadata": {},
   "outputs": [
    {
     "data": {
      "text/plain": [
       "array([ 364,  377,  388,  397,  399,  408,  414,  422,  422,  434,  442,\n",
       "        457,  462,  477,  478,  491,  491,  503,  512,  514,  515,  524,\n",
       "        526,  527,  538,  577,  587,  595,  604,  605,  615,  615,  621,\n",
       "        633,  659,  661,  667,  674,  686,  722,  729,  743,  775,  791,\n",
       "        796,  800,  815,  819,  857,  862,  862,  864,  870,  873,  916,\n",
       "        934,  953,  954,  972,  974, 1007, 1008, 1011, 1019, 1033, 1039,\n",
       "       1044, 1056, 1059, 1087, 1111, 1123, 1134, 1149, 1157, 1158, 1171,\n",
       "       1174, 1174, 1188])"
      ]
     },
     "execution_count": 4,
     "metadata": {},
     "output_type": "execute_result"
    }
   ],
   "source": [
    "uniform_arrivals"
   ]
  },
  {
   "cell_type": "code",
   "execution_count": 5,
   "metadata": {},
   "outputs": [
    {
     "data": {
      "image/png": "[encoded data removed]",
      "text/plain": [
       "<Figure size 432x288 with 1 Axes>"
      ]
     },
     "metadata": {
      "needs_background": "light"
     },
     "output_type": "display_data"
    }
   ],
   "source": [
    "import matplotlib.pyplot as plt\n",
    "count, bins, ignored = plt.hist(uniform_arrivals, 15, density=False)\n",
    "plt.xlim([0, 1400])\n",
    "plt.title(\"Uniformly distributed arrivals\")\n",
    "plt.ylabel(\"Number of request arrivals\")\n",
    "plt.xlabel(\"Time (min)\")\n",
    "plt.show()"
   ]
  },
  {
   "cell_type": "markdown",
   "metadata": {},
   "source": [
    "## Simulate one episode"
   ]
  },
  {
   "cell_type": "code",
   "execution_count": 6,
   "metadata": {},
   "outputs": [],
   "source": [
    "from modules.traffic_preprocess import TrafficPreprocessModule\n",
    "from entities.evcs import ChargingStation\n",
    "from entities.charging_request import ChargingRequest\n",
    "from topologies.graph import Graph\n"
   ]
  },
  {
   "cell_type": "code",
   "execution_count": 7,
   "metadata": {},
   "outputs": [],
   "source": [
    "def generate_random_node_pair(nodes_list):\n",
    "    node_pair = []\n",
    "    while len(node_pair) < 2:\n",
    "        node_pair = np.random.choice(nodes_list, 2, replace=False)\n",
    "    return node_pair\n",
    "\n",
    "def load_topology(topology_dir):\n",
    "    file = open(topology_dir, \"rb\")\n",
    "    G = nx.read_edgelist(file)\n",
    "    file.close()\n",
    "    print(\n",
    "        f'🏙️  Loaded topology with {G.number_of_nodes()} nodes and {G.number_of_edges()} edges.')\n",
    "    return G"
   ]
  },
  {
   "cell_type": "code",
   "execution_count": 11,
   "metadata": {},
   "outputs": [
    {
     "name": "stdout",
     "output_type": "stream",
     "text": [
      "🏙️  Loaded topology with 33 nodes and 49 edges.\n",
      "Arrival at 364, delta_t: 364, node pair: ['9' '14']\n",
      "Arrival times: [375.85, 375.45, 371.522, 378.082, 382.06, 380.414, 379.436, 378.43]\n",
      "Arrival at 377, delta_t: 13, node pair: ['19' '14']\n",
      "Arrival times: [402.65, 397.913, 385.242, 400.006, 382.47, 379.723, 377.756, 381.707]\n",
      "Arrival at 388, delta_t: 11, node pair: ['7' '1']\n",
      "Arrival times: [394.75, 398.68, 400.622, 402.375, 411.16, 409.514, 408.536, 407.53]\n",
      "Arrival at 397, delta_t: 9, node pair: ['4' '3']\n",
      "Arrival times: [421.69, 412.159, 407.08, 408.464, 404.48, 412.673, 410.706, 414.657]\n",
      "Arrival at 399, delta_t: 2, node pair: ['7' '25']\n",
      "Arrival times: [405.75, 409.68, 411.622, 413.375, 422.16, 420.514, 419.536, 418.53]\n",
      "Arrival at 408, delta_t: 9, node pair: ['5' '13']\n",
      "Arrival times: [433.79, 429.053, 416.382, 430.184, 411.24, 412.953, 410.986, 414.937]\n",
      "Arrival at 414, delta_t: 6, node pair: ['18' '26']\n",
      "Arrival times: [441.516, 436.779, 424.108, 438.872, 421.336, 414.857, 415.11, 416.841]\n",
      "Arrival at 422, delta_t: 8, node pair: ['6' '14']\n",
      "Arrival times: [434.22, 427.21, 435.762, 430.905, 446.3, 444.654, 443.676, 442.67]\n",
      "Arrival at 434, delta_t: 12, node pair: ['21' '19']\n",
      "Arrival times: [446.4, 453.03, 448.962, 456.725, 457.06, 455.414, 454.436, 453.43]\n",
      "Arrival at 442, delta_t: 8, node pair: ['21' '23']\n",
      "Arrival times: [454.4, 461.03, 456.962, 464.725, 465.06, 463.414, 462.436, 461.43]\n",
      "Arrival at 457, delta_t: 15, node pair: ['13' '19']\n",
      "Arrival times: [476.38, 471.64300000000003, 459.74, 469.024, 471.362, 469.716, 468.738, 467.73199999999997]\n",
      "Arrival at 462, delta_t: 5, node pair: ['18' '1']\n",
      "Arrival times: [489.516, 484.779, 472.108, 486.872, 469.336, 462.857, 463.11, 464.841]\n",
      "Arrival at 477, delta_t: 15, node pair: ['17' '1']\n",
      "Arrival times: [503.62, 498.883, 486.212, 500.976, 485.957, 477.764, 479.731, 478.22]\n",
      "Arrival at 478, delta_t: 1, node pair: ['7' '22']\n",
      "Arrival times: [484.75, 488.68, 490.622, 492.375, 501.16, 499.514, 498.536, 497.53]\n",
      "Arrival at 491, delta_t: 13, node pair: ['13' '4']\n",
      "Arrival times: [510.38, 505.64300000000003, 493.74, 503.024, 505.362, 503.716, 502.738, 501.73199999999997]\n",
      "Arrival at 503, delta_t: 12, node pair: ['3' '12']\n",
      "Arrival times: [524.889, 507.459, 517.0, 503.764, 521.18, 526.976, 525.998, 524.992]\n",
      "Arrival at 512, delta_t: 9, node pair: ['10' '5']\n",
      "Arrival times: [526.49, 520.873, 516.882, 523.442, 527.42, 525.774, 524.796, 523.79]\n",
      "Arrival at 514, delta_t: 2, node pair: ['5' '19']\n",
      "Arrival times: [539.79, 535.053, 522.382, 536.184, 517.24, 518.953, 516.986, 520.937]\n",
      "Arrival at 515, delta_t: 1, node pair: ['21' '15']\n",
      "Arrival times: [527.4, 534.03, 529.962, 537.725, 538.06, 536.414, 535.436, 534.43]\n",
      "Arrival at 524, delta_t: 9, node pair: ['17' '22']\n",
      "Arrival times: [550.62, 545.883, 533.212, 547.976, 532.957, 524.764, 526.731, 525.22]\n",
      "Arrival at 526, delta_t: 2, node pair: ['25' '23']\n",
      "Arrival times: [543.95, 539.213, 526.542, 541.306, 537.08, 535.434, 534.456, 533.45]\n",
      "Arrival at 527, delta_t: 1, node pair: ['2' '3']\n",
      "Arrival times: [547.553, 530.123, 542.336, 527.572, 546.516, 551.644, 550.6659999999999, 549.66]\n",
      "Arrival at 538, delta_t: 11, node pair: ['5' '18']\n",
      "Arrival times: [563.79, 559.053, 546.382, 560.184, 541.24, 542.953, 540.986, 544.937]\n",
      "Arrival at 577, delta_t: 39, node pair: ['12' '25']\n",
      "Arrival times: [600.08, 593.769, 585.47, 590.074, 586.09, 594.283, 592.316, 593.462]\n",
      "Arrival at 587, delta_t: 10, node pair: ['26' '3']\n",
      "Arrival times: [606.17, 601.433, 588.762, 603.526, 596.86, 595.214, 594.236, 593.23]\n",
      "Arrival at 595, delta_t: 8, node pair: ['3' '15']\n",
      "Arrival times: [616.889, 599.459, 609.0, 595.764, 613.18, 618.976, 617.998, 616.992]\n",
      "Arrival at 604, delta_t: 9, node pair: ['17' '15']\n",
      "Arrival times: [630.62, 625.883, 613.212, 627.976, 612.957, 604.764, 606.731, 605.22]\n",
      "Arrival at 605, delta_t: 1, node pair: ['19' '6']\n",
      "Arrival times: [630.65, 625.913, 613.242, 628.006, 610.47, 607.723, 605.756, 609.707]\n",
      "Arrival at 615, delta_t: 10, node pair: ['19' '18']\n",
      "Arrival times: [640.65, 635.913, 623.242, 638.006, 620.47, 617.723, 615.756, 619.707]\n",
      "Arrival at 621, delta_t: 6, node pair: ['20' '1']\n",
      "Arrival times: [643.98, 639.243, 626.572, 641.336, 629.14, 625.404, 624.426, 623.42]\n",
      "Arrival at 633, delta_t: 12, node pair: ['13' '16']\n",
      "Arrival times: [652.38, 647.643, 635.74, 645.024, 647.362, 645.716, 644.738, 643.732]\n",
      "Arrival at 659, delta_t: 26, node pair: ['23' '22']\n",
      "Arrival times: [661.8, 673.63, 674.692, 677.325, 685.23, 683.584, 682.606, 681.6]\n",
      "Arrival at 661, delta_t: 2, node pair: ['22' '26']\n",
      "Arrival times: [682.93, 689.443, 676.772, 691.536, 679.34, 675.604, 674.626, 673.62]\n",
      "Arrival at 667, delta_t: 6, node pair: ['22' '20']\n",
      "Arrival times: [688.93, 695.443, 682.772, 697.536, 685.34, 681.604, 680.626, 679.62]\n",
      "Arrival at 674, delta_t: 7, node pair: ['21' '13']\n",
      "Arrival times: [686.4, 693.03, 688.962, 696.725, 697.06, 695.414, 694.436, 693.43]\n",
      "Arrival at 686, delta_t: 12, node pair: ['25' '5']\n",
      "Arrival times: [703.95, 699.213, 686.542, 701.306, 697.08, 695.434, 694.456, 693.45]\n",
      "Arrival at 722, delta_t: 36, node pair: ['17' '26']\n",
      "Arrival times: [748.62, 743.883, 731.212, 745.976, 730.957, 722.764, 724.731, 723.22]\n",
      "Arrival at 729, delta_t: 7, node pair: ['11' '17']\n",
      "Arrival times: [747.75, 742.133, 734.05, 738.7139999999999, 742.42, 744.026, 743.048, 742.042]\n",
      "Arrival at 743, delta_t: 14, node pair: ['17' '20']\n",
      "Arrival times: [769.62, 764.883, 752.212, 766.976, 751.957, 743.764, 745.731, 744.22]\n",
      "Arrival at 775, delta_t: 32, node pair: ['15' '6']\n",
      "Arrival times: [806.774, 802.037, 789.366, 803.444, 784.5, 780.521, 780.774, 781.374]\n",
      "Arrival at 791, delta_t: 16, node pair: ['5' '14']\n",
      "Arrival times: [816.79, 812.053, 799.382, 813.184, 794.24, 795.953, 793.986, 797.937]\n",
      "Arrival at 796, delta_t: 5, node pair: ['11' '3']\n",
      "Arrival times: [814.75, 809.133, 801.05, 805.7139999999999, 809.42, 811.026, 810.048, 809.042]\n",
      "Arrival at 800, delta_t: 4, node pair: ['25' '10']\n",
      "Arrival times: [817.95, 813.213, 800.542, 815.306, 811.08, 809.434, 808.456, 807.45]\n",
      "Arrival at 815, delta_t: 15, node pair: ['1' '26']\n",
      "Arrival times: [832.993, 815.563, 828.192, 818.132, 837.076, 837.084, 836.106, 835.1]\n",
      "Arrival at 819, delta_t: 4, node pair: ['11' '22']\n",
      "Arrival times: [837.75, 832.133, 824.05, 828.7139999999999, 832.42, 834.026, 833.048, 832.042]\n",
      "Arrival at 857, delta_t: 38, node pair: ['10' '19']\n",
      "Arrival times: [871.49, 865.873, 861.882, 868.442, 872.42, 870.774, 869.796, 868.79]\n",
      "Arrival at 862, delta_t: 5, node pair: ['16' '11']\n",
      "Arrival times: [892.88, 888.143, 875.472, 890.236, 872.394, 866.627, 866.88, 867.48]\n",
      "Arrival at 864, delta_t: 2, node pair: ['9' '10']\n",
      "Arrival times: [875.85, 875.45, 871.522, 878.082, 882.06, 880.414, 879.436, 878.43]\n",
      "Arrival at 870, delta_t: 6, node pair: ['7' '2']\n",
      "Arrival times: [876.75, 880.68, 882.622, 884.375, 893.16, 891.514, 890.5360000000001, 889.53]\n",
      "Arrival at 873, delta_t: 3, node pair: ['19' '13']\n",
      "Arrival times: [898.65, 893.913, 881.242, 896.006, 878.47, 875.723, 873.756, 877.707]\n",
      "Arrival at 916, delta_t: 43, node pair: ['8' '19']\n",
      "Arrival times: [922.59, 929.22, 927.902, 932.915, 938.44, 936.794, 935.816, 934.81]\n",
      "Arrival at 934, delta_t: 18, node pair: ['13' '6']\n",
      "Arrival times: [953.38, 948.643, 936.74, 946.024, 948.362, 946.716, 945.738, 944.732]\n",
      "Arrival at 953, delta_t: 19, node pair: ['4' '19']\n",
      "Arrival times: [977.69, 968.159, 963.08, 964.4639999999999, 960.48, 968.673, 966.706, 970.657]\n",
      "Arrival at 954, delta_t: 1, node pair: ['6' '23']\n",
      "Arrival times: [966.22, 959.21, 967.762, 962.905, 978.3, 976.654, 975.676, 974.67]\n",
      "Arrival at 972, delta_t: 18, node pair: ['19' '8']\n",
      "Arrival times: [997.65, 992.913, 980.242, 995.006, 977.47, 974.723, 972.756, 976.707]\n",
      "Arrival at 974, delta_t: 2, node pair: ['8' '2']\n",
      "Arrival times: [980.59, 987.22, 985.902, 990.915, 996.44, 994.794, 993.816, 992.81]\n",
      "Arrival at 1007, delta_t: 33, node pair: ['25' '4']\n",
      "Arrival times: [1024.95, 1020.213, 1007.542, 1022.306, 1018.08, 1016.434, 1015.456, 1014.45]\n",
      "Arrival at 1008, delta_t: 1, node pair: ['7' '22']\n",
      "Arrival times: [1014.75, 1018.68, 1020.622, 1022.375, 1031.16, 1029.514, 1028.536, 1027.53]\n",
      "Arrival at 1011, delta_t: 3, node pair: ['7' '25']\n",
      "Arrival times: [1017.75, 1021.68, 1023.622, 1025.375, 1034.16, 1032.514, 1031.536, 1030.53]\n",
      "Arrival at 1019, delta_t: 8, node pair: ['20' '2']\n",
      "Arrival times: [1041.98, 1037.243, 1024.572, 1039.336, 1027.14, 1023.404, 1022.426, 1021.42]\n",
      "Arrival at 1033, delta_t: 14, node pair: ['4' '11']\n",
      "Arrival times: [1057.69, 1048.159, 1043.08, 1044.464, 1040.48, 1048.673, 1046.706, 1050.657]\n",
      "Arrival at 1039, delta_t: 6, node pair: ['18' '12']\n",
      "Arrival times: [1066.516, 1061.779, 1049.108, 1063.872, 1046.336, 1039.857, 1040.11, 1041.841]\n",
      "Arrival at 1044, delta_t: 5, node pair: ['23' '5']\n",
      "Arrival times: [1046.8, 1058.63, 1059.692, 1062.325, 1070.23, 1068.584, 1067.606, 1066.6]\n",
      "Arrival at 1056, delta_t: 12, node pair: ['7' '26']\n",
      "Arrival times: [1062.75, 1066.68, 1068.622, 1070.375, 1079.16, 1077.514, 1076.536, 1075.53]\n",
      "Arrival at 1059, delta_t: 3, node pair: ['15' '11']\n",
      "Arrival times: [1090.774, 1086.037, 1073.366, 1087.444, 1068.5, 1064.521, 1064.774, 1065.374]\n",
      "Arrival at 1087, delta_t: 28, node pair: ['11' '17']\n",
      "Arrival times: [1105.75, 1100.133, 1092.05, 1096.714, 1100.42, 1102.026, 1101.048, 1100.042]\n",
      "Arrival at 1111, delta_t: 24, node pair: ['9' '10']\n",
      "Arrival times: [1122.85, 1122.45, 1118.522, 1125.082, 1129.06, 1127.414, 1126.436, 1125.43]\n",
      "Arrival at 1123, delta_t: 12, node pair: ['6' '26']\n",
      "Arrival times: [1135.22, 1128.21, 1136.762, 1131.905, 1147.3, 1145.654, 1144.676, 1143.67]\n",
      "Arrival at 1134, delta_t: 11, node pair: ['21' '14']\n",
      "Arrival times: [1146.4, 1153.03, 1148.962, 1156.725, 1157.06, 1155.414, 1154.436, 1153.43]\n",
      "Arrival at 1149, delta_t: 15, node pair: ['10' '7']\n",
      "Arrival times: [1163.49, 1157.873, 1153.882, 1160.442, 1164.42, 1162.774, 1161.796, 1160.79]\n",
      "Arrival at 1157, delta_t: 8, node pair: ['7' '22']\n",
      "Arrival times: [1163.75, 1167.68, 1169.622, 1171.375, 1180.16, 1178.514, 1177.536, 1176.53]\n",
      "Arrival at 1158, delta_t: 1, node pair: ['4' '7']\n",
      "Arrival times: [1182.69, 1173.159, 1168.08, 1169.464, 1165.48, 1173.673, 1171.706, 1175.657]\n",
      "Arrival at 1171, delta_t: 13, node pair: ['8' '21']\n",
      "Arrival times: [1177.59, 1184.22, 1182.902, 1187.915, 1193.44, 1191.794, 1190.816, 1189.81]\n",
      "Arrival at 1174, delta_t: 3, node pair: ['22' '2']\n",
      "Arrival times: [1195.93, 1202.443, 1189.772, 1204.536, 1192.34, 1188.604, 1187.626, 1186.62]\n",
      "Arrival at 1188, delta_t: 14, node pair: ['4' '23']\n",
      "Arrival times: [1212.69, 1203.159, 1198.08, 1199.464, 1195.48, 1203.673, 1201.706, 1205.657]\n"
     ]
    }
   ],
   "source": [
    "last_request_time = 0\n",
    "\n",
    "G = load_topology(\"topologies/santiago.edgelist\")\n",
    "G_utils = Graph(G)\n",
    "\n",
    "TPM = TrafficPreprocessModule(G)\n",
    "traffic_network = TPM.get_traffic_network()\n",
    "nodes_labels = G_utils.get_nodes_labels(exclude_evcs=True)\n",
    "evcs_labels = G_utils.get_evcs_labels()\n",
    "charging_stations = [ChargingStation(label, 0.5) for label in evcs_labels]\n",
    "charging_requests = []\n",
    "for t in range(TIME_HORIZON):\n",
    "    if t in uniform_arrivals:\n",
    "        # Generate a new request and add it to the queue\n",
    "        node_pair = generate_random_node_pair(nodes_labels)\n",
    "        delta_t = t - last_request_time\n",
    "        initial_soc = np.random.uniform(0.2, 0.4)\n",
    "        required_soc = 0.9\n",
    "        last_request_time = t\n",
    "        charging_requests.append(ChargingRequest(\n",
    "            node_pair[0], node_pair[1], t, delta_t, initial_soc, required_soc))\n",
    "\n",
    "        evcs_arrival_times = [t + TPM.get_total_time(\n",
    "            node_pair[0], evcs_label) for evcs_label in evcs_labels]\n",
    "\n",
    "        # array that contains total energy consumption from source node to each EVCS\n",
    "        evcs_total_energy_consumption = EV_ENERGY_CONSUMPTION_RATE * \\\n",
    "            np.array([G_utils.get_total_distance(node_pair[0], evcs_label)\n",
    "                     for evcs_label in evcs_labels])\n",
    "        evcs_soc_arrival = initial_soc - \\\n",
    "            evcs_total_energy_consumption/EV_MAX_BATTERY_CAPACITY\n",
    "        evcs_charging_energy_required = (\n",
    "            required_soc - evcs_soc_arrival)*EV_MAX_BATTERY_CAPACITY\n",
    "        evcs_charging_time_required = evcs_charging_energy_required / \\\n",
    "            (EVCS_CHARGING_EFFICIENCY*CHARGING_POWER)\n",
    "        evcs_driving_times = np.array([TPM.get_total_time(\n",
    "            node_pair[0], evcs_label) + TPM.get_total_time(evcs_label, node_pair[1]) for evcs_label in evcs_labels])\n",
    "        evcs_total_driving_distance = np.array([G_utils.get_total_distance(\n",
    "            node_pair[0], evcs_label) for evcs_label in evcs_labels])\n",
    "\n",
    "        print(\"Arrival at {}, delta_t: {}, node pair: {}\".format(\n",
    "            t, delta_t, node_pair))\n",
    "        print(\"Arrival times: {}\".format(evcs_arrival_times))\n"
   ]
  },
  {
   "cell_type": "code",
   "execution_count": 9,
   "metadata": {},
   "outputs": [
    {
     "data": {
      "text/plain": [
       "1399"
      ]
     },
     "execution_count": 9,
     "metadata": {},
     "output_type": "execute_result"
    }
   ],
   "source": [
    "range(TIME_HORIZON)[-1]"
   ]
  },
  {
   "cell_type": "code",
   "execution_count": 14,
   "metadata": {},
   "outputs": [
    {
     "name": "stdout",
     "output_type": "stream",
     "text": [
      "Graph with 33 nodes and 49 edges\n"
     ]
    }
   ],
   "source": [
    "print(traffic_network)"
   ]
  },
  {
   "cell_type": "code",
   "execution_count": null,
   "metadata": {},
   "outputs": [],
   "source": []
  },
  {
   "cell_type": "markdown",
   "metadata": {},
   "source": [
    "## Environment implementation"
   ]
  },
  {
   "cell_type": "code",
   "execution_count": 13,
   "metadata": {},
   "outputs": [],
   "source": [
    "import gym\n",
    "from gym import spaces\n",
    "import numpy as np"
   ]
  },
  {
   "cell_type": "code",
   "execution_count": 14,
   "metadata": {},
   "outputs": [
    {
     "name": "stdout",
     "output_type": "stream",
     "text": [
      "🏙️  Loaded topology with 33 nodes and 49 edges.\n"
     ]
    }
   ],
   "source": [
    "G = load_topology(\"topologies/santiago.edgelist\")"
   ]
  },
  {
   "cell_type": "code",
   "execution_count": 15,
   "metadata": {},
   "outputs": [],
   "source": [
    "class RouteChargingStationEnv(gym.Env):\n",
    "    def __init__(self, G):\n",
    "        self.G = G\n",
    "        self.G_utils = Graph(G)\n",
    "        self.TPM = TrafficPreprocessModule(G)\n",
    "        self.traffic_network = self.TPM.get_traffic_network()\n",
    "        self.nodes_labels = self.G_utils.get_nodes_labels(exclude_evcs=True)\n",
    "        self.evcs_labels = self.G_utils.get_evcs_labels()\n",
    "        self.charging_stations = [ChargingStation(label, 0.5) for label in self.evcs_labels]\n",
    "        self.charging_requests = []\n",
    "        self.last_request_time = 0\n",
    "        # 1D observation space with size 6+4*len(evcs_labels)\n",
    "        self.observation_space = spaces.Box(\n",
    "            low=0, high=1, shape=(6+4*len(self.evcs_labels),), dtype=np.float32)\n"
   ]
  },
  {
   "cell_type": "code",
   "execution_count": 36,
   "metadata": {},
   "outputs": [
    {
     "data": {
      "text/plain": [
       "Box([[-inf -inf -inf -inf]], [[inf inf inf inf]], (1, 4), float32)"
      ]
     },
     "execution_count": 36,
     "metadata": {},
     "output_type": "execute_result"
    }
   ],
   "source": [
    "spaces.Box(low=-np.inf, high=np.inf, shape=(1,4), dtype=np.float32)"
   ]
  },
  {
   "cell_type": "code",
   "execution_count": null,
   "metadata": {},
   "outputs": [],
   "source": []
  }
 ],
 "metadata": {
  "kernelspec": {
   "display_name": "Python 3.8.13 ('drl-rcs')",
   "language": "python",
   "name": "python3"
  },
  "language_info": {
   "codemirror_mode": {
    "name": "ipython",
    "version": 3
   },
   "file_extension": ".py",
   "mimetype": "text/x-python",
   "name": "python",
   "nbconvert_exporter": "python",
   "pygments_lexer": "ipython3",
   "version": "3.8.13"
  },
  "orig_nbformat": 4,
  "vscode": {
   "interpreter": {
    "hash": "d3a72d839e7037988506f39a11e1a7934c003c0f1626f64457990a7c2e59733d"
   }
  }
 },
 "nbformat": 4,
 "nbformat_minor": 2
}
