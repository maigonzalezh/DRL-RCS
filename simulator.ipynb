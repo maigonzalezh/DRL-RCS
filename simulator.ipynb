{
 "cells": [
  {
   "cell_type": "code",
   "execution_count": 1,
   "metadata": {},
   "outputs": [],
   "source": [
    "import numpy as np\n",
    "import networkx as nx"
   ]
  },
  {
   "cell_type": "code",
   "execution_count": 2,
   "metadata": {},
   "outputs": [],
   "source": [
    "TIME_HORIZON = 1400 # minutes\n",
    "SEED = 42\n",
    "np.random.seed(SEED)"
   ]
  },
  {
   "cell_type": "code",
   "execution_count": 3,
   "metadata": {},
   "outputs": [],
   "source": [
    "uniform_arrivals = np.sort(np.random.uniform(360,1200,80).astype(int))"
   ]
  },
  {
   "cell_type": "code",
   "execution_count": 4,
   "metadata": {},
   "outputs": [
    {
     "data": {
      "text/plain": [
       "array([ 364,  377,  388,  397,  399,  408,  414,  422,  422,  434,  442,\n",
       "        457,  462,  477,  478,  491,  491,  503,  512,  514,  515,  524,\n",
       "        526,  527,  538,  577,  587,  595,  604,  605,  615,  615,  621,\n",
       "        633,  659,  661,  667,  674,  686,  722,  729,  743,  775,  791,\n",
       "        796,  800,  815,  819,  857,  862,  862,  864,  870,  873,  916,\n",
       "        934,  953,  954,  972,  974, 1007, 1008, 1011, 1019, 1033, 1039,\n",
       "       1044, 1056, 1059, 1087, 1111, 1123, 1134, 1149, 1157, 1158, 1171,\n",
       "       1174, 1174, 1188])"
      ]
     },
     "execution_count": 4,
     "metadata": {},
     "output_type": "execute_result"
    }
   ],
   "source": [
    "uniform_arrivals"
   ]
  },
  {
   "cell_type": "code",
   "execution_count": 5,
   "metadata": {},
   "outputs": [
    {
     "data": {
      "image/png": "[encoded data removed]",
      "text/plain": [
       "<Figure size 432x288 with 1 Axes>"
      ]
     },
     "metadata": {
      "needs_background": "light"
     },
     "output_type": "display_data"
    }
   ],
   "source": [
    "import matplotlib.pyplot as plt\n",
    "count, bins, ignored = plt.hist(uniform_arrivals, 15, density=False)\n",
    "plt.xlim([0, 1400])\n",
    "plt.title(\"Uniformly distributed arrivals\")\n",
    "plt.ylabel(\"Number of request arrivals\")\n",
    "plt.xlabel(\"Time (min)\")\n",
    "plt.show()"
   ]
  },
  {
   "cell_type": "markdown",
   "metadata": {},
   "source": [
    "## Simulate one episode"
   ]
  },
  {
   "cell_type": "code",
   "execution_count": 6,
   "metadata": {},
   "outputs": [],
   "source": [
    "from modules.traffic_preprocess import TrafficPreprocessModule\n",
    "from topologies.graph import Graph"
   ]
  },
  {
   "cell_type": "code",
   "execution_count": 7,
   "metadata": {},
   "outputs": [],
   "source": [
    "def generate_random_node_pair(nodes_list):\n",
    "    node_pair = []\n",
    "    while len(node_pair) < 2:\n",
    "        node_pair = np.random.choice(nodes_list, 2, replace=False)\n",
    "    return node_pair\n",
    "\n",
    "def load_topology(topology_dir):\n",
    "    file = open(topology_dir, \"rb\")\n",
    "    G = nx.read_edgelist(file)\n",
    "    file.close()\n",
    "    print(\n",
    "        f'🏙️  Loaded topology with {G.number_of_nodes()} nodes and {G.number_of_edges()} edges.')\n",
    "    return G"
   ]
  },
  {
   "cell_type": "code",
   "execution_count": 9,
   "metadata": {},
   "outputs": [
    {
     "name": "stdout",
     "output_type": "stream",
     "text": [
      "🏙️  Loaded topology with 33 nodes and 49 edges.\n",
      "[('EVCS10', '23'), ('EVCS10', '21'), ('23', '7'), ('23', '8'), ('21', '8'), ('21', '26'), ('21', '22'), ('7', '8'), ('7', '6'), ('7', '9'), ('8', '14'), ('6', '9'), ('6', 'EVCS8'), ('9', '10'), ('EVCS8', '1'), ('1', '10'), ('1', '2'), ('10', '14'), ('10', '11'), ('14', '25'), ('14', '13'), ('26', '20'), ('26', '25'), ('26', '5'), ('22', '20'), ('20', '19'), ('20', 'EVCS9'), ('25', 'EVCS1'), ('5', 'EVCS4'), ('5', '15'), ('5', '19'), ('EVCS1', '13'), ('13', '11'), ('13', '12'), ('11', '3'), ('11', '12'), ('3', 'EVCS3'), ('3', '4'), ('EVCS3', '2'), ('4', 'EVCS4'), ('4', '12'), ('15', '16'), ('19', 'EVCS7'), ('16', '18'), ('16', '17'), ('18', 'EVCS2'), ('18', 'EVCS7'), ('17', 'EVCS2'), ('17', 'EVCS9')]\n",
      "Arrival at 364, delta_t: 364, node pair: ['18' '3']\n",
      "Arrival at 377, delta_t: 13, node pair: ['10' '25']\n",
      "Arrival at 388, delta_t: 11, node pair: ['23' '4']\n",
      "Arrival at 397, delta_t: 9, node pair: ['16' '19']\n",
      "Arrival at 399, delta_t: 2, node pair: ['25' '26']\n",
      "Arrival at 408, delta_t: 9, node pair: ['21' '1']\n",
      "Arrival at 414, delta_t: 6, node pair: ['11' '26']\n",
      "Arrival at 422, delta_t: 8, node pair: ['3' '14']\n",
      "Arrival at 434, delta_t: 12, node pair: ['11' '1']\n",
      "Arrival at 442, delta_t: 8, node pair: ['18' '10']\n",
      "Arrival at 457, delta_t: 15, node pair: ['20' '15']\n",
      "Arrival at 462, delta_t: 5, node pair: ['4' '1']\n",
      "Arrival at 477, delta_t: 15, node pair: ['25' '2']\n",
      "Arrival at 478, delta_t: 1, node pair: ['20' '14']\n",
      "Arrival at 491, delta_t: 13, node pair: ['5' '14']\n",
      "Arrival at 503, delta_t: 12, node pair: ['5' '9']\n",
      "Arrival at 512, delta_t: 9, node pair: ['10' '25']\n",
      "Arrival at 514, delta_t: 2, node pair: ['17' '11']\n",
      "Arrival at 515, delta_t: 1, node pair: ['3' '13']\n",
      "Arrival at 524, delta_t: 9, node pair: ['6' '26']\n",
      "Arrival at 526, delta_t: 2, node pair: ['22' '14']\n",
      "Arrival at 527, delta_t: 1, node pair: ['3' '16']\n",
      "Arrival at 538, delta_t: 11, node pair: ['17' '13']\n",
      "Arrival at 577, delta_t: 39, node pair: ['25' '15']\n",
      "Arrival at 587, delta_t: 10, node pair: ['26' '3']\n",
      "Arrival at 595, delta_t: 8, node pair: ['8' '19']\n",
      "Arrival at 604, delta_t: 9, node pair: ['19' '14']\n",
      "Arrival at 605, delta_t: 1, node pair: ['8' '17']\n",
      "Arrival at 615, delta_t: 10, node pair: ['20' '9']\n",
      "Arrival at 621, delta_t: 6, node pair: ['16' '11']\n",
      "Arrival at 633, delta_t: 12, node pair: ['9' '21']\n",
      "Arrival at 659, delta_t: 26, node pair: ['18' '2']\n",
      "Arrival at 661, delta_t: 2, node pair: ['13' '1']\n",
      "Arrival at 667, delta_t: 6, node pair: ['18' '8']\n",
      "Arrival at 674, delta_t: 7, node pair: ['26' '9']\n",
      "Arrival at 686, delta_t: 12, node pair: ['25' '22']\n",
      "Arrival at 722, delta_t: 36, node pair: ['4' '16']\n",
      "Arrival at 729, delta_t: 7, node pair: ['22' '3']\n",
      "Arrival at 743, delta_t: 14, node pair: ['14' '2']\n",
      "Arrival at 775, delta_t: 32, node pair: ['26' '10']\n",
      "Arrival at 791, delta_t: 16, node pair: ['18' '10']\n",
      "Arrival at 796, delta_t: 5, node pair: ['11' '13']\n",
      "Arrival at 800, delta_t: 4, node pair: ['17' '19']\n",
      "Arrival at 815, delta_t: 15, node pair: ['13' '2']\n",
      "Arrival at 819, delta_t: 4, node pair: ['9' '19']\n",
      "Arrival at 857, delta_t: 38, node pair: ['6' '7']\n",
      "Arrival at 862, delta_t: 5, node pair: ['12' '16']\n",
      "Arrival at 864, delta_t: 2, node pair: ['6' '25']\n",
      "Arrival at 870, delta_t: 6, node pair: ['16' '18']\n",
      "Arrival at 873, delta_t: 3, node pair: ['14' '17']\n",
      "Arrival at 916, delta_t: 43, node pair: ['18' '10']\n",
      "Arrival at 934, delta_t: 18, node pair: ['23' '1']\n",
      "Arrival at 953, delta_t: 19, node pair: ['10' '11']\n",
      "Arrival at 954, delta_t: 1, node pair: ['25' '3']\n",
      "Arrival at 972, delta_t: 18, node pair: ['4' '6']\n",
      "Arrival at 974, delta_t: 2, node pair: ['17' '21']\n",
      "Arrival at 1007, delta_t: 33, node pair: ['1' '4']\n",
      "Arrival at 1008, delta_t: 1, node pair: ['13' '10']\n",
      "Arrival at 1011, delta_t: 3, node pair: ['2' '1']\n",
      "Arrival at 1019, delta_t: 8, node pair: ['15' '2']\n",
      "Arrival at 1033, delta_t: 14, node pair: ['6' '21']\n",
      "Arrival at 1039, delta_t: 6, node pair: ['8' '25']\n",
      "Arrival at 1044, delta_t: 5, node pair: ['11' '9']\n",
      "Arrival at 1056, delta_t: 12, node pair: ['22' '9']\n",
      "Arrival at 1059, delta_t: 3, node pair: ['6' '20']\n",
      "Arrival at 1087, delta_t: 28, node pair: ['12' '8']\n",
      "Arrival at 1111, delta_t: 24, node pair: ['4' '16']\n",
      "Arrival at 1123, delta_t: 12, node pair: ['5' '10']\n",
      "Arrival at 1134, delta_t: 11, node pair: ['18' '10']\n",
      "Arrival at 1149, delta_t: 15, node pair: ['12' '3']\n",
      "Arrival at 1157, delta_t: 8, node pair: ['17' '9']\n",
      "Arrival at 1158, delta_t: 1, node pair: ['18' '14']\n",
      "Arrival at 1171, delta_t: 13, node pair: ['11' '17']\n",
      "Arrival at 1174, delta_t: 3, node pair: ['20' '14']\n",
      "Arrival at 1188, delta_t: 14, node pair: ['26' '18']\n"
     ]
    }
   ],
   "source": [
    "last_request_time = 0\n",
    "\n",
    "G = load_topology(\"topologies/santiago.edgelist\")\n",
    "G_utils = Graph(G)\n",
    "\n",
    "TPM = TrafficPreprocessModule(G)\n",
    "traffic_network = TPM.get_traffic_network()\n",
    "print(traffic_network.get_edge_data())\n",
    "\n",
    "for t in range(TIME_HORIZON):\n",
    "    traffic_network = TPM.get_traffic_network()\n",
    "    if t in uniform_arrivals:\n",
    "        # handle arrival\n",
    "        nodes_labels = G_utils.get_nodes_labels(exclude_evcs=True)\n",
    "        node_pair = generate_random_node_pair(nodes_labels)\n",
    "        delta_t = t - last_request_time\n",
    "        last_request_time = t\n",
    "\n",
    "        print(\"Arrival at {}, delta_t: {}, node pair: {}\".format(t, delta_t, node_pair))"
   ]
  },
  {
   "cell_type": "code",
   "execution_count": 9,
   "metadata": {},
   "outputs": [
    {
     "data": {
      "text/plain": [
       "1399"
      ]
     },
     "execution_count": 9,
     "metadata": {},
     "output_type": "execute_result"
    }
   ],
   "source": [
    "range(TIME_HORIZON)[-1]"
   ]
  },
  {
   "cell_type": "code",
   "execution_count": null,
   "metadata": {},
   "outputs": [],
   "source": []
  }
 ],
 "metadata": {
  "kernelspec": {
   "display_name": "Python 3.8.13 ('DRL-RCS')",
   "language": "python",
   "name": "python3"
  },
  "language_info": {
   "codemirror_mode": {
    "name": "ipython",
    "version": 3
   },
   "file_extension": ".py",
   "mimetype": "text/x-python",
   "name": "python",
   "nbconvert_exporter": "python",
   "pygments_lexer": "ipython3",
   "version": "3.8.13"
  },
  "orig_nbformat": 4,
  "vscode": {
   "interpreter": {
    "hash": "e7402330c5d3f92afedd66bd766dcc4b46931ed105bf91fc18294fd33ac8c13e"
   }
  }
 },
 "nbformat": 4,
 "nbformat_minor": 2
}
